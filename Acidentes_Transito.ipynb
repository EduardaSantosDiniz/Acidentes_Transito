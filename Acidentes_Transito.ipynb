{
  "nbformat": 4,
  "nbformat_minor": 0,
  "metadata": {
    "colab": {
      "provenance": [],
      "authorship_tag": "ABX9TyOwLNNU1M43hJztcrTiHD8L",
      "include_colab_link": true
    },
    "kernelspec": {
      "name": "python3",
      "display_name": "Python 3"
    },
    "language_info": {
      "name": "python"
    }
  },
  "cells": [
    {
      "cell_type": "markdown",
      "metadata": {
        "id": "view-in-github",
        "colab_type": "text"
      },
      "source": [
        "<a href=\"https://colab.research.google.com/github/EduardaSantosDiniz/Acidentes_Transito/blob/main/Acidentes_Transito.ipynb\" target=\"_parent\"><img src=\"https://colab.research.google.com/assets/colab-badge.svg\" alt=\"Open In Colab\"/></a>"
      ]
    },
    {
      "cell_type": "markdown",
      "source": [
        "# Olá aqui eu irei tentar resolver um problema\n",
        "# Qual a maior probabilidade de acontecer um acidadente🚗❌?:"
      ],
      "metadata": {
        "id": "n55m7zRbxnPB"
      }
    },
    {
      "cell_type": "code",
      "source": [
        "import pandas as pd\n",
        "\n",
        "df = pd.read_csv('DadosTratados.csv', delimiter=';', on_bad_lines='skip')\n",
        "df.columns = ['Id', 'Estado', 'Ano', 'Dia', 'Fase', 'Tipo', 'Clima', 'pista', 'num de feridos', 'num de obitos']\n",
        "\n",
        "print(df.head())\n",
        "print(f\"Número de linhas: {df.shape[0]}\")"
      ],
      "metadata": {
        "colab": {
          "base_uri": "https://localhost:8080/"
        },
        "id": "OmrOJwGGE_5w",
        "outputId": "ab644443-07a7-4e0b-a5d8-5ec87651a212"
      },
      "execution_count": 17,
      "outputs": [
        {
          "output_type": "stream",
          "name": "stdout",
          "text": [
            "        Id Estado   Ano            Dia       Fase     Tipo  Clima pista  \\\n",
            "0  3224316     AC  2018  Segunda-feira      Tarde  Colisão  Claro  Seca   \n",
            "1  3346658     AC  2018  Segunda-feira      Tarde  Colisão  Claro  Seca   \n",
            "2  2631190     AC  2018  Segunda-feira      Manhã  Colisão  Claro  Seca   \n",
            "3  1557469     AC  2018  Segunda-feira      Tarde  Colisão  Claro  Seca   \n",
            "4  1729703     AC  2018  Segunda-feira  Madrugada  Colisão  Claro  Seca   \n",
            "\n",
            "   num de feridos  num de obitos  \n",
            "0             2.0            0.0  \n",
            "1             2.0            0.0  \n",
            "2             3.0            0.0  \n",
            "3             2.0            0.0  \n",
            "4             2.0            0.0  \n",
            "Número de linhas: 4209\n"
          ]
        }
      ]
    },
    {
      "cell_type": "code",
      "source": [],
      "metadata": {
        "id": "-4HX-ap3xvGZ"
      },
      "execution_count": null,
      "outputs": []
    },
    {
      "cell_type": "code",
      "source": [],
      "metadata": {
        "id": "fNhnZwVbxvDn"
      },
      "execution_count": null,
      "outputs": []
    },
    {
      "cell_type": "code",
      "source": [],
      "metadata": {
        "id": "YfQ88v9owhcC"
      },
      "execution_count": null,
      "outputs": []
    }
  ]
}