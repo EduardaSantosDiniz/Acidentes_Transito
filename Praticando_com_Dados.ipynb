{
  "cells": [
    {
      "cell_type": "markdown",
      "metadata": {
        "id": "view-in-github",
        "colab_type": "text"
      },
      "source": [
        "<a href=\"https://colab.research.google.com/github/EduardaSantosDiniz/Quando-Acidente-Mais-Acontecem/blob/main/Praticando_com_Dados.ipynb\" target=\"_parent\"><img src=\"https://colab.research.google.com/assets/colab-badge.svg\" alt=\"Open In Colab\"/></a>"
      ]
    },
    {
      "cell_type": "markdown",
      "source": [
        "**qual a porcentagem de morte em caso de acidente em cada tipo de clima**?\n"
      ],
      "metadata": {
        "id": "8uZWnUg9bc9y"
      }
    },
    {
      "cell_type": "code",
      "source": [
        "import pandas as pd\n",
        "\n",
        "df = pd.read_csv('Acidentes_DadosAbertos.csv', delimiter=';', on_bad_lines='skip')\n",
        "df.columns = (\"num\", \"chave\", \"data\", \"estado\", \"ano\", \"codigo\", \"dia\", \"fase\", \"tipo\", \"clima\",\"tipo\",\"tipo\",\"tipo\",\"tipo\",\"tipo\",\"tipo\",\"tipo\",\"tipo\",\"tipo\",\"tipo\",\"tipo\",\"tipo\",\"tipo\", \"tipo\")\n",
        "df = df.drop(columns=[\"tipo\"])\n",
        "print(df.head())"
      ],
      "metadata": {
        "id": "CfmNz3aHRIRB",
        "colab": {
          "base_uri": "https://localhost:8080/"
        },
        "outputId": "56529256-44e0-495e-c292-39738b3165c1"
      },
      "execution_count": 16,
      "outputs": [
        {
          "output_type": "stream",
          "name": "stdout",
          "text": [
            "       num          chave              data estado   ano   codigo  \\\n",
            "0  3224316  AC12004012018  01/01/2018 00:00     AC  2018  1200401   \n",
            "1  3346658  AC12004012018  01/01/2018 00:00     AC  2018  1200401   \n",
            "2  2631190  AC12007082018  01/01/2018 00:00     AC  2018  1200708   \n",
            "3  1557469  AC12004012018  01/01/2018 00:00     AC  2018  1200401   \n",
            "4  1729703  AC12004012018  01/01/2018 00:00     AC  2018  1200401   \n",
            "\n",
            "             dia       fase  clima  \n",
            "0  Segunda-feira      Tarde  Claro  \n",
            "1  Segunda-feira      Tarde  Claro  \n",
            "2  Segunda-feira      Manhã  Claro  \n",
            "3  Segunda-feira      Tarde  Claro  \n",
            "4  Segunda-feira  Madrugada  Claro  \n"
          ]
        }
      ]
    },
    {
      "cell_type": "code",
      "source": [],
      "metadata": {
        "id": "tqU0V9PZZdXS"
      },
      "execution_count": null,
      "outputs": []
    },
    {
      "cell_type": "markdown",
      "source": [
        "**num de acidentes em cada estado, num de mortos por acidente em cada estado**\n",
        "**texto em negrito**"
      ],
      "metadata": {
        "id": "O6G5ylsTbfYp"
      }
    },
    {
      "cell_type": "markdown",
      "source": [
        "**idade**"
      ],
      "metadata": {
        "id": "lBtJPS7bbkEJ"
      }
    }
  ],
  "metadata": {
    "colab": {
      "name": "Markdown Guide",
      "provenance": [],
      "include_colab_link": true
    },
    "kernelspec": {
      "display_name": "Python 3",
      "name": "python3"
    }
  },
  "nbformat": 4,
  "nbformat_minor": 0
}