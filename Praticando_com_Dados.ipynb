{
  "cells": [
    {
      "cell_type": "markdown",
      "metadata": {
        "id": "view-in-github",
        "colab_type": "text"
      },
      "source": [
        "<a href=\"https://colab.research.google.com/github/EduardaSantosDiniz/Quando-Acidente-Mais-Acontecem/blob/main/Praticando_com_Dados.ipynb\" target=\"_parent\"><img src=\"https://colab.research.google.com/assets/colab-badge.svg\" alt=\"Open In Colab\"/></a>"
      ]
    },
    {
      "cell_type": "markdown",
      "source": [
        "**qual a porcentagem de morte em caso de acidente em cada tipo de clima**?\n"
      ],
      "metadata": {
        "id": "8uZWnUg9bc9y"
      }
    },
    {
      "cell_type": "markdown",
      "source": [
        "**num de acidentes em cada estado,  num de mortos por acidente em cada estado**\n",
        "**texto em negrito**"
      ],
      "metadata": {
        "id": "O6G5ylsTbfYp"
      }
    },
    {
      "cell_type": "markdown",
      "source": [
        "**idade**"
      ],
      "metadata": {
        "id": "lBtJPS7bbkEJ"
      }
    }
  ],
  "metadata": {
    "colab": {
      "name": "Markdown Guide",
      "provenance": [],
      "include_colab_link": true
    },
    "kernelspec": {
      "display_name": "Python 3",
      "name": "python3"
    }
  },
  "nbformat": 4,
  "nbformat_minor": 0
}