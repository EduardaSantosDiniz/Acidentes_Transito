{
  "cells": [
    {
      "cell_type": "markdown",
      "metadata": {
        "id": "view-in-github",
        "colab_type": "text"
      },
      "source": [
        "<a href=\"https://colab.research.google.com/github/EduardaSantosDiniz/Quando-Acidente-Mais-Acontecem/blob/main/Praticando_com_Dados.ipynb\" target=\"_parent\"><img src=\"https://colab.research.google.com/assets/colab-badge.svg\" alt=\"Open In Colab\"/></a>"
      ]
    },
    {
      "cell_type": "markdown",
      "source": [
        "# Qual a porcentagem de morte em caso de acidente em cada tipo de clima?\n"
      ],
      "metadata": {
        "id": "8uZWnUg9bc9y"
      }
    },
    {
      "cell_type": "code",
      "source": [
        "import pandas as pd\n",
        "#eu adiciono os dados para a gente conseguir ler\n",
        "df = pd.read_csv('Acidentes_DadosAbertos.csv', delimiter=';', on_bad_lines='skip')\n",
        "#Eu mudo os nomes das colunas para ficar mais legível\n",
        "df.columns = (\"num\", \"chave\", \"data\", \"estado\", \"ano\", \"codigo\", \"dia\", \"fase\", \"tipo\", \"clima\",\"tipo\",\"tipo\",\"tipo\",\"tipo\",\"tipo\",\"tipo\",\"tipo\",\"tipo\",\"tipo\",\"tipo\",\"tipo\",\"tipo\",\"obitos\",\"envolvidos\")\n",
        "#eu retirei colunas que não seriam necessárias\n",
        "df = df.drop(columns=[\"tipo\",\"num\",\"chave\",\"data\"])\n",
        "#segmentei para so o ano de 2018 aparecer\n",
        "df= df[df[\"ano\"] == 2018]\n",
        "#agora coloquei para\n",
        "print(df.head())"
      ],
      "metadata": {
        "id": "CfmNz3aHRIRB",
        "colab": {
          "base_uri": "https://localhost:8080/"
        },
        "outputId": "f38ee423-0c8d-416f-9dd3-dde92e2b3931"
      },
      "execution_count": 29,
      "outputs": [
        {
          "output_type": "stream",
          "name": "stdout",
          "text": [
            "  estado   ano   codigo            dia       fase  clima  obitos  envolvidos\n",
            "0     AC  2018  1200401  Segunda-feira      Tarde  Claro       0           2\n",
            "1     AC  2018  1200401  Segunda-feira      Tarde  Claro       0           2\n",
            "2     AC  2018  1200708  Segunda-feira      Manhã  Claro       0           3\n",
            "3     AC  2018  1200401  Segunda-feira      Tarde  Claro       0           2\n",
            "4     AC  2018  1200401  Segunda-feira  Madrugada  Claro       0           2\n"
          ]
        }
      ]
    },
    {
      "cell_type": "code",
      "source": [],
      "metadata": {
        "id": "tqU0V9PZZdXS"
      },
      "execution_count": null,
      "outputs": []
    },
    {
      "cell_type": "markdown",
      "source": [
        "**num de acidentes em cada estado, num de mortos por acidente em cada estado**\n",
        "**texto em negrito**"
      ],
      "metadata": {
        "id": "O6G5ylsTbfYp"
      }
    },
    {
      "cell_type": "markdown",
      "source": [
        "**idade**"
      ],
      "metadata": {
        "id": "lBtJPS7bbkEJ"
      }
    }
  ],
  "metadata": {
    "colab": {
      "name": "Markdown Guide",
      "provenance": [],
      "include_colab_link": true
    },
    "kernelspec": {
      "display_name": "Python 3",
      "name": "python3"
    }
  },
  "nbformat": 4,
  "nbformat_minor": 0
}